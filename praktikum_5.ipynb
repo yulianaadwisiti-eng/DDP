{
  "nbformat": 4,
  "nbformat_minor": 0,
  "metadata": {
    "colab": {
      "provenance": [],
      "authorship_tag": "ABX9TyP/8mLpctWzKibCPSy5cGhs",
      "include_colab_link": true
    },
    "kernelspec": {
      "name": "python3",
      "display_name": "Python 3"
    },
    "language_info": {
      "name": "python"
    }
  },
  "cells": [
    {
      "cell_type": "markdown",
      "metadata": {
        "id": "view-in-github",
        "colab_type": "text"
      },
      "source": [
        "<a href=\"https://colab.research.google.com/github/yulianaadwisiti-eng/DDP/blob/main/praktikum_5.ipynb\" target=\"_parent\"><img src=\"https://colab.research.google.com/assets/colab-badge.svg\" alt=\"Open In Colab\"/></a>"
      ]
    },
    {
      "cell_type": "code",
      "source": [
        "pilihan = int(input(\"\"\"\n",
        "silahkan pilih menu yang diinginkan\n",
        "===================================\n",
        "\n",
        "1. Luas persegi\n",
        "2. Luas lingkaran\n",
        "3. Luas segitiga\n",
        "===================================\n",
        "Kirimkan hanya angka saja,\n",
        "jawaban = \"\"\"))\n",
        "\n",
        "\n",
        "match pilihan:\n",
        " case 1:\n",
        "  sisi = int(input(\"sisi = \"))\n",
        "  luas = sisi * sisi\n",
        "\n",
        "  print(f\"luas persegi dengan {sisi} adalah {luas}\")\n",
        "  #Luas persegi\n",
        " case 2:\n",
        "  #Luas lingkaran\n",
        "  # phi * jari jari **2\n",
        "  print(\"luas lingkaran\")\n",
        "  jarijari = int(input(\"jarijari = \"))\n",
        "  luas = 3.14 * 3.14\n",
        "\n",
        "  print(f\"luas persegi dengan {sisi} adalah {luas}\")\n",
        " case 3:\n",
        "  #Luas segitiga\n",
        "  #(alas * tinggi)/2\n",
        "  print(\"\")\n",
        "  alas = int(input(\"alas : \"))\n",
        "  tinggi = int(input(\"tinggi : \"))\n",
        "  luas = 0.3 * alas * tinggi\n",
        "\n",
        "  print(f\"luas persegi dengan {sisi} adalah {luas}\")\n",
        " case _:\n",
        "  print(\"maaf salah input data\")"
      ],
      "metadata": {
        "colab": {
          "base_uri": "https://localhost:8080/"
        },
        "id": "X5VT5yQK9asA",
        "outputId": "b3a1ac44-7b6a-4751-e20d-bd4a129df145"
      },
      "execution_count": 26,
      "outputs": [
        {
          "output_type": "stream",
          "name": "stdout",
          "text": [
            "\n",
            "silahkan pilih menu yang diinginkan\n",
            "===================================\n",
            "\n",
            "1. Luas persegi\n",
            "2. Luas lingkaran\n",
            "3. Luas segitiga\n",
            "===================================\n",
            "Kirimkan hanya angka saja,\n",
            "jawaban = 2\n",
            "luas lingkaran\n",
            "jarijari = 35\n",
            "luas persegi dengan 25 adalah 9.8596\n"
          ]
        }
      ]
    },
    {
      "cell_type": "code",
      "execution_count": null,
      "metadata": {
        "colab": {
          "base_uri": "https://localhost:8080/"
        },
        "id": "MO4oE2kQ20q1",
        "outputId": "252a0c69-32d7-411c-f7fc-8dde09c2f754"
      },
      "outputs": [
        {
          "output_type": "stream",
          "name": "stdout",
          "text": [
            "['beat', 'motor', 200, 'merah', 2]\n",
            "['beat', 'motor', 200, 'merah', 2, 8000, 'matic']\n",
            "['beat', 'motor', 'Honda', 200, 'merah', 2, 8000, 'matic']\n"
          ]
        }
      ],
      "source": [
        "namakendaraan = \"beat\"\n",
        "jeniskendaraan = \"motor\"\n",
        "cckendaraan = 200\n",
        "warnakendaraan = \"merah\"\n",
        "rodakendaraan = 2\n",
        "\n",
        "data_kendaraan = [namakendaraan, jeniskendaraan,\n",
        "cckendaraan, warnakendaraan, rodakendaraan]\n",
        "\n",
        "print(data_kendaraan)\n",
        "\n",
        "hargakendaraan = 8000\n",
        "tipekendaraan = \"matic\"\n",
        "\n",
        "data_kendaraan.append(hargakendaraan)\n",
        "data_kendaraan.append(tipekendaraan)\n",
        "print(data_kendaraan)\n",
        "\n",
        "merekkendaraan =\"Honda\"\n",
        "data_kendaraan.insert(2, merekkendaraan)\n",
        "print(data_kendaraan)"
      ]
    }
  ]
}