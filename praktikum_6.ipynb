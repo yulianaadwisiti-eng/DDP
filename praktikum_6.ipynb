{
  "nbformat": 4,
  "nbformat_minor": 0,
  "metadata": {
    "colab": {
      "provenance": [],
      "authorship_tag": "ABX9TyP/QfvSSFJoq0rnSnlwlD5D",
      "include_colab_link": true
    },
    "kernelspec": {
      "name": "python3",
      "display_name": "Python 3"
    },
    "language_info": {
      "name": "python"
    }
  },
  "cells": [
    {
      "cell_type": "markdown",
      "metadata": {
        "id": "view-in-github",
        "colab_type": "text"
      },
      "source": [
        "<a href=\"https://colab.research.google.com/github/yulianaadwisiti-eng/DDP/blob/main/praktikum_6.ipynb\" target=\"_parent\"><img src=\"https://colab.research.google.com/assets/colab-badge.svg\" alt=\"Open In Colab\"/></a>"
      ]
    },
    {
      "cell_type": "code",
      "execution_count": 17,
      "metadata": {
        "id": "pNh78LW2B7zX",
        "colab": {
          "base_uri": "https://localhost:8080/"
        },
        "outputId": "c40bf23c-de47-47da-97bf-7f90eba7520a"
      },
      "outputs": [
        {
          "output_type": "stream",
          "name": "stdout",
          "text": [
            "951\n",
            "651\n",
            "69\n",
            "319\n",
            "601\n",
            "485\n",
            "507\n",
            "725\n",
            "547\n",
            "615\n",
            "83\n",
            "165\n",
            "141\n",
            "501\n",
            "263\n",
            "617\n",
            "865\n",
            "575\n",
            "219\n",
            "105\n",
            "941\n",
            "47\n",
            "907\n",
            "375\n",
            "823\n",
            "597\n",
            "615\n",
            "953\n",
            "345\n",
            "399\n",
            "219\n",
            "237\n",
            "949\n",
            "687\n",
            "217\n",
            "815\n",
            "67\n",
            "767\n"
          ]
        }
      ],
      "source": [
        "#print semua bilangan ganjil dari list berikut\n",
        "#hentikan perulangan jika ketika sudah melewati bagian 553\n",
        "#pakai perulangan while\n",
        "\n",
        "numbers = [\n",
        "951, 402, 984, 651, 360, 69, 408, 319, 601, 485, 980, 507, 725, 547, 544,  615, 83, 165, 141, 501, 263, 617, 865, 575, 219, 390, 984, 592, 236, 105, 942, 941,  386, 462, 47, 418, 907, 344, 236, 375, 823, 566, 597, 978, 328, 615, 953, 345,  399, 162, 758, 219, 918, 237, 412, 566, 826, 248, 866, 950, 626, 949, 687, 217, 815, 67, 104, 58, 512, 24, 892, 894, 767, 553, 81, 379, 843, 831, 445, 742, 717, 958, 609, 842, 451, 688, 753, 854, 685, 93, 857, 440, 380, 126, 721, 328, 753, 470, 743, 527\n",
        "]\n",
        "\n",
        "index = 0\n",
        "while index <= len(numbers):\n",
        "  if numbers[index] == 553:\n",
        "   break\n",
        "  if numbers[index] %2 == 1:\n",
        "   print(numbers[index])\n",
        "  index += 1"
      ]
    },
    {
      "cell_type": "code",
      "source": [
        "# Buat lah output dari menggunakan bahasa pemprograman\n",
        "# 1 + 3 + 5 + 7 +9 +11 +13 + 15 +17 +19 = ….\n",
        "\n",
        "jumlah = 0 #variabel untuk menyimpan nilai\n",
        "string = \" \" #untuk membaca tanda +\n",
        "\n",
        "bilangan = 1\n",
        "while bilangan <= 19: #untuk melakukan perulangan sebanyak 19x\n",
        "  jumlah += bilangan\n",
        "  string += str(bilangan)\n",
        "  if bilangan < 19:\n",
        "    string += \"+\"\n",
        "  bilangan += 2\n",
        "print (string, \"=\",jumlah)"
      ],
      "metadata": {
        "colab": {
          "base_uri": "https://localhost:8080/"
        },
        "id": "3bhY5IkxCbx5",
        "outputId": "8ef2dca2-767a-4a1d-b9ca-512f221064c6"
      },
      "execution_count": 11,
      "outputs": [
        {
          "output_type": "stream",
          "name": "stdout",
          "text": [
            " 1+3+5+7+9+11+13+15+17+19 = 100\n"
          ]
        }
      ]
    },
    {
      "cell_type": "code",
      "source": [
        "# buat program untuk input jumlah baris dan buat\n",
        "# rangkaian berikut ini\n",
        "# *\n",
        "# **\n",
        "# ***\n",
        "# ****\n",
        "\n",
        "baris =int(input('masukkan angka:'))\n",
        "for i in range(1, baris + 1):\n",
        "   print('*' * i)"
      ],
      "metadata": {
        "colab": {
          "base_uri": "https://localhost:8080/"
        },
        "id": "tOELM8rRGD0q",
        "outputId": "fbb7b458-c8e8-4959-f6ed-e255079de92d"
      },
      "execution_count": 16,
      "outputs": [
        {
          "output_type": "stream",
          "name": "stdout",
          "text": [
            "masukkan angka:5\n",
            "*\n",
            "**\n",
            "***\n",
            "****\n",
            "*****\n"
          ]
        }
      ]
    }
  ]
}